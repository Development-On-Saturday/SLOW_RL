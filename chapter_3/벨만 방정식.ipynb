{
 "cells": [
  {
   "cell_type": "markdown",
   "metadata": {},
   "source": [
    "# 벨만 방정식"
   ]
  },
  {
   "cell_type": "markdown",
   "metadata": {},
   "source": [
    "![ex_screenshot](./Page1.png)\n",
    "![ex_screenshot](./Page2.png)\n",
    "![ex_screenshot](./Page3.png)\n",
    "![ex_screenshot](./Page4.png)\n",
    "![ex_screenshot](./Page5.png)\n",
    "![ex_screenshot](./Page6.png)\n",
    "![ex_screenshot](./Page7.png)"
   ]
  }
 ],
 "metadata": {
  "kernelspec": {
   "display_name": "aiffel",
   "language": "python",
   "name": "aiffel"
  },
  "language_info": {
   "codemirror_mode": {
    "name": "ipython",
    "version": 3
   },
   "file_extension": ".py",
   "mimetype": "text/x-python",
   "name": "python",
   "nbconvert_exporter": "python",
   "pygments_lexer": "ipython3",
   "version": "3.7.7"
  }
 },
 "nbformat": 4,
 "nbformat_minor": 4
}
